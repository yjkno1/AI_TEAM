{
  "nbformat": 4,
  "nbformat_minor": 0,
  "metadata": {
    "colab": {
      "name": "IsolationForest_0329.ipynb",
      "provenance": [],
      "authorship_tag": "ABX9TyO4J0s+lPTOUqK1/S7KkObE",
      "include_colab_link": true
    },
    "kernelspec": {
      "name": "python3",
      "display_name": "Python 3"
    },
    "language_info": {
      "name": "python"
    }
  },
  "cells": [
    {
      "cell_type": "markdown",
      "metadata": {
        "id": "view-in-github",
        "colab_type": "text"
      },
      "source": [
        "<a href=\"https://colab.research.google.com/github/yjkno1/AI_TEAM/blob/main/IsolationForest_0329.ipynb\" target=\"_parent\"><img src=\"https://colab.research.google.com/assets/colab-badge.svg\" alt=\"Open In Colab\"/></a>"
      ]
    },
    {
      "cell_type": "markdown",
      "metadata": {
        "id": "v91GEJjdWfks"
      },
      "source": [
        "**필요파일 Import**\n"
      ]
    },
    {
      "cell_type": "code",
      "metadata": {
        "id": "P0PDkKoEUJxv"
      },
      "source": [
        "import csv\n",
        "import numpy as np\n",
        "import matplotlib.pyplot as plt\n",
        "import pandas as pd\n",
        "from sklearn.ensemble import IsolationForest\n",
        "\n",
        "import ftplib\n",
        "import os\n",
        "import pickle\n",
        "from os import unlink\n",
        "\n",
        "import plotly.express as px\n",
        "\n",
        "# Google Drive 에서 파일 가져올때 사용\n",
        "# from google.colab import drive\n",
        "# drive.mount('/gdrive', force_remount=True)\n"
      ],
      "execution_count": 1,
      "outputs": []
    },
    {
      "cell_type": "markdown",
      "metadata": {
        "id": "w3Puo1CRWpih"
      },
      "source": [
        "**Dataframe 생성**"
      ]
    },
    {
      "cell_type": "code",
      "metadata": {
        "colab": {
          "base_uri": "https://localhost:8080/"
        },
        "id": "QD-JbfKQWpVC",
        "outputId": "24e7b0f4-c4af-4f6f-bd3d-cde2a8b9f59d"
      },
      "source": [
        "# 위와같이 파일을 읽을때 date 컬럼의 타입을 지정할수 있고\n",
        "# df['srvtime'] = pd.to_datetime(df['srvtime]) 이런형태로 나중에 변경 할수도 있다.\n",
        "\n",
        "#csv_file = \"http://yjkno1.synology.me:8081/file/ROUGHING_MILL_STAND10_ACTUAL_CURRENT_sample.csv\"\n",
        "\n",
        "csv_file = \"http://yjkno1.synology.me:8081/file/TOP_9_TAG.csv\"\n",
        "\n",
        "df = pd.read_csv(csv_file, \\\n",
        "                 parse_dates=['srvtime'], \\\n",
        "                 infer_datetime_format=True)\n",
        "\n",
        "df.describe()\n",
        "\n",
        "df.info()"
      ],
      "execution_count": 118,
      "outputs": [
        {
          "output_type": "stream",
          "text": [
            "<class 'pandas.core.frame.DataFrame'>\n",
            "RangeIndex: 7627651 entries, 0 to 7627650\n",
            "Data columns (total 3 columns):\n",
            " #   Column   Dtype                                \n",
            "---  ------   -----                                \n",
            " 0   tag      object                               \n",
            " 1   srvtime  datetime64[ns, pytz.FixedOffset(540)]\n",
            " 2   value    float64                              \n",
            "dtypes: datetime64[ns, pytz.FixedOffset(540)](1), float64(1), object(1)\n",
            "memory usage: 174.6+ MB\n"
          ],
          "name": "stdout"
        }
      ]
    },
    {
      "cell_type": "code",
      "metadata": {
        "id": "LwUFJSeYIjw7"
      },
      "source": [
        ""
      ],
      "execution_count": null,
      "outputs": []
    },
    {
      "cell_type": "markdown",
      "metadata": {
        "id": "ZY0ZlcyXXGYb"
      },
      "source": [
        "**index 를 srvtime으로 재설정 하고 date의 분으로 평균값 구하여 재구성 한다.**\n"
      ]
    },
    {
      "cell_type": "code",
      "metadata": {
        "colab": {
          "base_uri": "https://localhost:8080/"
        },
        "id": "Vr6ZW1ZLXJC_",
        "outputId": "c5a228a3-84b0-4f50-9aa7-f6a672471539"
      },
      "source": [
        "df['tag'] = df['tag'].astype(str)\n",
        "\n",
        "#print(df[df['tag'] == 'SRL_2.2YH70.ROUGHING_MILL_STAND10_ACTUAL_SPEED_RPM'].count())\n",
        "\n",
        "rpmData = df[df['tag'] == 'SRL_2.2YH70.ROUGHING_MILL_STAND10_ACTUAL_SPEED_RPM'] # 669503\n",
        "currentData = df[df['tag'] == 'SRL_2.2YH70.ROUGHING_MILL_STAND10_ACTUAL_CURRENT'] # 1047052\n",
        "torqueData = df[df['tag'] == 'SRL_2.2YH70.ROUGHING_MILL_STAND10_ACTUAL_TORQUE'] # 1015070\n",
        "\n",
        "rpmData = rpmData[(rpmData['srvtime'] >='2021-03-09') & (rpmData['srvtime'] < '2021-03-10')]\n",
        "currentData = currentData[(currentData['srvtime'] >='2021-03-09') & (currentData['srvtime'] < '2021-03-10')]\n",
        "torqueData = torqueData[(torqueData['srvtime'] >='2021-03-09') & (torqueData['srvtime'] < '2021-03-10')]\n",
        "\n",
        "\n",
        "rpmData=rpmData.set_index('srvtime').resample(\"1S\").mean().reset_index()\n",
        "currentData=currentData.set_index('srvtime').resample(\"1S\").mean().reset_index()\n",
        "torqueData=torqueData.set_index('srvtime').resample(\"1S\").mean().reset_index()\n",
        "\n",
        "# # 평균값의 소숫점을 1자리로 변경\n",
        "rpmData['value']=round(rpmData['value'], 1)\n",
        "currentData['value']=round(currentData['value'], 1)\n",
        "torqueData['value']=round(torqueData['value'], 1)\n",
        "\n",
        "rpmData['value'].fillna(rpmData['value'].mean(), inplace = True)\n",
        "currentData['value'].fillna(currentData['value'].mean(), inplace = True)\n",
        "torqueData['value'].fillna(torqueData['value'].mean(), inplace = True)\n",
        "\n",
        "print(rpmData.count())\n",
        "print(currentData.count())\n",
        "print(torqueData.count())"
      ],
      "execution_count": 134,
      "outputs": [
        {
          "output_type": "stream",
          "text": [
            "srvtime    86400\n",
            "value      86400\n",
            "dtype: int64\n",
            "srvtime    86400\n",
            "value      86400\n",
            "dtype: int64\n",
            "srvtime    86400\n",
            "value      86400\n",
            "dtype: int64\n"
          ],
          "name": "stdout"
        }
      ]
    },
    {
      "cell_type": "code",
      "metadata": {
        "colab": {
          "base_uri": "https://localhost:8080/",
          "height": 419
        },
        "id": "QwAQ5HSzHet_",
        "outputId": "b4717683-27ac-4d4a-cebc-6a3cfe3cea5c"
      },
      "source": [
        "x_train = rpmData\n",
        "\n",
        "x_train['rpm'] = rpmData['value']\n",
        "x_train['current'] = currentData['value']\n",
        "x_train['torque'] = torqueData['value']\n",
        "\n",
        "x_train"
      ],
      "execution_count": 136,
      "outputs": [
        {
          "output_type": "execute_result",
          "data": {
            "text/html": [
              "<div>\n",
              "<style scoped>\n",
              "    .dataframe tbody tr th:only-of-type {\n",
              "        vertical-align: middle;\n",
              "    }\n",
              "\n",
              "    .dataframe tbody tr th {\n",
              "        vertical-align: top;\n",
              "    }\n",
              "\n",
              "    .dataframe thead th {\n",
              "        text-align: right;\n",
              "    }\n",
              "</style>\n",
              "<table border=\"1\" class=\"dataframe\">\n",
              "  <thead>\n",
              "    <tr style=\"text-align: right;\">\n",
              "      <th></th>\n",
              "      <th>srvtime</th>\n",
              "      <th>value</th>\n",
              "      <th>rpm</th>\n",
              "      <th>current</th>\n",
              "      <th>torque</th>\n",
              "    </tr>\n",
              "  </thead>\n",
              "  <tbody>\n",
              "    <tr>\n",
              "      <th>0</th>\n",
              "      <td>2021-03-09 00:00:00+09:00</td>\n",
              "      <td>449.6</td>\n",
              "      <td>449.6</td>\n",
              "      <td>250.5</td>\n",
              "      <td>20.3</td>\n",
              "    </tr>\n",
              "    <tr>\n",
              "      <th>1</th>\n",
              "      <td>2021-03-09 00:00:01+09:00</td>\n",
              "      <td>448.3</td>\n",
              "      <td>448.3</td>\n",
              "      <td>252.9</td>\n",
              "      <td>20.6</td>\n",
              "    </tr>\n",
              "    <tr>\n",
              "      <th>2</th>\n",
              "      <td>2021-03-09 00:00:02+09:00</td>\n",
              "      <td>453.0</td>\n",
              "      <td>453.0</td>\n",
              "      <td>219.5</td>\n",
              "      <td>2.0</td>\n",
              "    </tr>\n",
              "    <tr>\n",
              "      <th>3</th>\n",
              "      <td>2021-03-09 00:00:03+09:00</td>\n",
              "      <td>451.7</td>\n",
              "      <td>451.7</td>\n",
              "      <td>227.6</td>\n",
              "      <td>2.2</td>\n",
              "    </tr>\n",
              "    <tr>\n",
              "      <th>4</th>\n",
              "      <td>2021-03-09 00:00:04+09:00</td>\n",
              "      <td>450.0</td>\n",
              "      <td>450.0</td>\n",
              "      <td>214.1</td>\n",
              "      <td>2.4</td>\n",
              "    </tr>\n",
              "    <tr>\n",
              "      <th>...</th>\n",
              "      <td>...</td>\n",
              "      <td>...</td>\n",
              "      <td>...</td>\n",
              "      <td>...</td>\n",
              "      <td>...</td>\n",
              "    </tr>\n",
              "    <tr>\n",
              "      <th>86395</th>\n",
              "      <td>2021-03-09 23:59:55+09:00</td>\n",
              "      <td>460.6</td>\n",
              "      <td>460.6</td>\n",
              "      <td>268.4</td>\n",
              "      <td>26.0</td>\n",
              "    </tr>\n",
              "    <tr>\n",
              "      <th>86396</th>\n",
              "      <td>2021-03-09 23:59:56+09:00</td>\n",
              "      <td>460.7</td>\n",
              "      <td>460.7</td>\n",
              "      <td>258.7</td>\n",
              "      <td>25.6</td>\n",
              "    </tr>\n",
              "    <tr>\n",
              "      <th>86397</th>\n",
              "      <td>2021-03-09 23:59:57+09:00</td>\n",
              "      <td>459.6</td>\n",
              "      <td>459.6</td>\n",
              "      <td>259.5</td>\n",
              "      <td>25.5</td>\n",
              "    </tr>\n",
              "    <tr>\n",
              "      <th>86398</th>\n",
              "      <td>2021-03-09 23:59:58+09:00</td>\n",
              "      <td>459.1</td>\n",
              "      <td>459.1</td>\n",
              "      <td>268.0</td>\n",
              "      <td>25.8</td>\n",
              "    </tr>\n",
              "    <tr>\n",
              "      <th>86399</th>\n",
              "      <td>2021-03-09 23:59:59+09:00</td>\n",
              "      <td>460.3</td>\n",
              "      <td>460.3</td>\n",
              "      <td>257.1</td>\n",
              "      <td>25.5</td>\n",
              "    </tr>\n",
              "  </tbody>\n",
              "</table>\n",
              "<p>86400 rows × 5 columns</p>\n",
              "</div>"
            ],
            "text/plain": [
              "                        srvtime  value    rpm  current  torque\n",
              "0     2021-03-09 00:00:00+09:00  449.6  449.6    250.5    20.3\n",
              "1     2021-03-09 00:00:01+09:00  448.3  448.3    252.9    20.6\n",
              "2     2021-03-09 00:00:02+09:00  453.0  453.0    219.5     2.0\n",
              "3     2021-03-09 00:00:03+09:00  451.7  451.7    227.6     2.2\n",
              "4     2021-03-09 00:00:04+09:00  450.0  450.0    214.1     2.4\n",
              "...                         ...    ...    ...      ...     ...\n",
              "86395 2021-03-09 23:59:55+09:00  460.6  460.6    268.4    26.0\n",
              "86396 2021-03-09 23:59:56+09:00  460.7  460.7    258.7    25.6\n",
              "86397 2021-03-09 23:59:57+09:00  459.6  459.6    259.5    25.5\n",
              "86398 2021-03-09 23:59:58+09:00  459.1  459.1    268.0    25.8\n",
              "86399 2021-03-09 23:59:59+09:00  460.3  460.3    257.1    25.5\n",
              "\n",
              "[86400 rows x 5 columns]"
            ]
          },
          "metadata": {
            "tags": []
          },
          "execution_count": 136
        }
      ]
    },
    {
      "cell_type": "code",
      "metadata": {
        "id": "lg4v6L_SILxB"
      },
      "source": [
        ""
      ],
      "execution_count": null,
      "outputs": []
    },
    {
      "cell_type": "markdown",
      "metadata": {
        "id": "kvD5-n6qXqzW"
      },
      "source": [
        "**Model 만들기 함수**"
      ]
    },
    {
      "cell_type": "code",
      "metadata": {
        "id": "yDlrUAmKXrQO"
      },
      "source": [
        "def isolation_forest_model(state_seed=20, n_estimators=100, max_samples=128, contamination=float(0.004)):\n",
        "  state_value = np.random.RandomState(state_seed)\n",
        "  return IsolationForest(n_estimators=100, max_samples=128, contamination=float(0.004), random_state=state_value)\n"
      ],
      "execution_count": 111,
      "outputs": []
    },
    {
      "cell_type": "markdown",
      "metadata": {
        "id": "5_Vs1ImIZbTq"
      },
      "source": [
        "**Model 생성**"
      ]
    },
    {
      "cell_type": "code",
      "metadata": {
        "colab": {
          "base_uri": "https://localhost:8080/"
        },
        "id": "xHK6byirZdX5",
        "outputId": "5f877e5b-6b33-4910-aabe-81a068dd42d2"
      },
      "source": [
        "isol = isolation_forest_model()\n",
        "\n",
        "isol"
      ],
      "execution_count": 112,
      "outputs": [
        {
          "output_type": "execute_result",
          "data": {
            "text/plain": [
              "IsolationForest(behaviour='deprecated', bootstrap=False, contamination=0.004,\n",
              "                max_features=1.0, max_samples=128, n_estimators=100,\n",
              "                n_jobs=None,\n",
              "                random_state=RandomState(MT19937) at 0x7F432372EAF0, verbose=0,\n",
              "                warm_start=False)"
            ]
          },
          "metadata": {
            "tags": []
          },
          "execution_count": 112
        }
      ]
    },
    {
      "cell_type": "code",
      "metadata": {
        "colab": {
          "base_uri": "https://localhost:8080/"
        },
        "id": "tpw4H_WzFMYA",
        "outputId": "0013700d-d927-47ad-d94c-7b536a9d8685"
      },
      "source": [
        "isol.fit(x_train[['rpm', 'current', 'torque']])\n"
      ],
      "execution_count": 138,
      "outputs": [
        {
          "output_type": "execute_result",
          "data": {
            "text/plain": [
              "IsolationForest(behaviour='deprecated', bootstrap=False, contamination=0.004,\n",
              "                max_features=1.0, max_samples=128, n_estimators=100,\n",
              "                n_jobs=None,\n",
              "                random_state=RandomState(MT19937) at 0x7F432372EAF0, verbose=0,\n",
              "                warm_start=False)"
            ]
          },
          "metadata": {
            "tags": []
          },
          "execution_count": 138
        }
      ]
    },
    {
      "cell_type": "markdown",
      "metadata": {
        "id": "Hr1pD-qBZhk7"
      },
      "source": [
        "**Model에 Fit할 데이터 전처리**"
      ]
    },
    {
      "cell_type": "code",
      "metadata": {
        "colab": {
          "base_uri": "https://localhost:8080/"
        },
        "id": "HiLdQNiuIqFY",
        "outputId": "99a34c46-1740-442a-945b-f15aa166890b"
      },
      "source": [
        "x_rpmData = df[df['tag'] == 'SRL_2.2YH70.ROUGHING_MILL_STAND10_ACTUAL_SPEED_RPM'] # 669503\n",
        "x_currentData = df[df['tag'] == 'SRL_2.2YH70.ROUGHING_MILL_STAND10_ACTUAL_CURRENT'] # 1047052\n",
        "x_torqueData = df[df['tag'] == 'SRL_2.2YH70.ROUGHING_MILL_STAND10_ACTUAL_TORQUE'] # 1015070\n",
        "\n",
        "x_rpmData = x_rpmData[x_rpmData['srvtime'] >='2021-03-09']\n",
        "x_currentData = x_currentData[x_currentData['srvtime'] >='2021-03-09']\n",
        "x_torqueData = x_torqueData[x_torqueData['srvtime'] >='2021-03-09']\n",
        "\n",
        "x_rpmData=x_rpmData.set_index('srvtime').resample(\"1S\").mean().reset_index()\n",
        "x_currentData=x_currentData.set_index('srvtime').resample(\"1S\").mean().reset_index()\n",
        "x_torqueData=x_torqueData.set_index('srvtime').resample(\"1S\").mean().reset_index()\n",
        "\n",
        "# # 평균값의 소숫점을 1자리로 변경\n",
        "x_rpmData['value']=round(x_rpmData['value'], 1)\n",
        "x_currentData['value']=round(x_currentData['value'], 1)\n",
        "x_torqueData['value']=round(x_torqueData['value'], 1)\n",
        "\n",
        "x_rpmData['value'].fillna(x_rpmData['value'].mean(), inplace = True)\n",
        "x_currentData['value'].fillna(x_currentData['value'].mean(), inplace = True)\n",
        "x_torqueData['value'].fillna(x_torqueData['value'].mean(), inplace = True)\n",
        "\n",
        "print(x_rpmData.count())\n",
        "print(x_currentData.count())\n",
        "print(x_torqueData.count())"
      ],
      "execution_count": 142,
      "outputs": [
        {
          "output_type": "stream",
          "text": [
            "srvtime    141702\n",
            "value      141702\n",
            "dtype: int64\n",
            "srvtime    141702\n",
            "value      141702\n",
            "dtype: int64\n",
            "srvtime    141702\n",
            "value      141702\n",
            "dtype: int64\n"
          ],
          "name": "stdout"
        }
      ]
    },
    {
      "cell_type": "code",
      "metadata": {
        "colab": {
          "base_uri": "https://localhost:8080/",
          "height": 419
        },
        "id": "eVYQ6eJPJNqm",
        "outputId": "3a5afa21-ebc1-4fab-ce25-3c7d8734521a"
      },
      "source": [
        "x_test = x_rpmData\n",
        "\n",
        "x_test['rpm'] = x_rpmData['value']\n",
        "x_test['current'] = x_currentData['value']\n",
        "x_test['torque'] = x_torqueData['value']\n",
        "\n",
        "x_test"
      ],
      "execution_count": 144,
      "outputs": [
        {
          "output_type": "execute_result",
          "data": {
            "text/html": [
              "<div>\n",
              "<style scoped>\n",
              "    .dataframe tbody tr th:only-of-type {\n",
              "        vertical-align: middle;\n",
              "    }\n",
              "\n",
              "    .dataframe tbody tr th {\n",
              "        vertical-align: top;\n",
              "    }\n",
              "\n",
              "    .dataframe thead th {\n",
              "        text-align: right;\n",
              "    }\n",
              "</style>\n",
              "<table border=\"1\" class=\"dataframe\">\n",
              "  <thead>\n",
              "    <tr style=\"text-align: right;\">\n",
              "      <th></th>\n",
              "      <th>srvtime</th>\n",
              "      <th>value</th>\n",
              "      <th>rpm</th>\n",
              "      <th>current</th>\n",
              "      <th>torque</th>\n",
              "    </tr>\n",
              "  </thead>\n",
              "  <tbody>\n",
              "    <tr>\n",
              "      <th>0</th>\n",
              "      <td>2021-03-09 00:00:00+09:00</td>\n",
              "      <td>449.6</td>\n",
              "      <td>449.6</td>\n",
              "      <td>250.5</td>\n",
              "      <td>20.3</td>\n",
              "    </tr>\n",
              "    <tr>\n",
              "      <th>1</th>\n",
              "      <td>2021-03-09 00:00:01+09:00</td>\n",
              "      <td>448.3</td>\n",
              "      <td>448.3</td>\n",
              "      <td>252.9</td>\n",
              "      <td>20.6</td>\n",
              "    </tr>\n",
              "    <tr>\n",
              "      <th>2</th>\n",
              "      <td>2021-03-09 00:00:02+09:00</td>\n",
              "      <td>453.0</td>\n",
              "      <td>453.0</td>\n",
              "      <td>219.5</td>\n",
              "      <td>2.0</td>\n",
              "    </tr>\n",
              "    <tr>\n",
              "      <th>3</th>\n",
              "      <td>2021-03-09 00:00:03+09:00</td>\n",
              "      <td>451.7</td>\n",
              "      <td>451.7</td>\n",
              "      <td>227.6</td>\n",
              "      <td>2.2</td>\n",
              "    </tr>\n",
              "    <tr>\n",
              "      <th>4</th>\n",
              "      <td>2021-03-09 00:00:04+09:00</td>\n",
              "      <td>450.0</td>\n",
              "      <td>450.0</td>\n",
              "      <td>214.1</td>\n",
              "      <td>2.4</td>\n",
              "    </tr>\n",
              "    <tr>\n",
              "      <th>...</th>\n",
              "      <td>...</td>\n",
              "      <td>...</td>\n",
              "      <td>...</td>\n",
              "      <td>...</td>\n",
              "      <td>...</td>\n",
              "    </tr>\n",
              "    <tr>\n",
              "      <th>141697</th>\n",
              "      <td>2021-03-10 15:21:37+09:00</td>\n",
              "      <td>419.8</td>\n",
              "      <td>419.8</td>\n",
              "      <td>273.4</td>\n",
              "      <td>28.5</td>\n",
              "    </tr>\n",
              "    <tr>\n",
              "      <th>141698</th>\n",
              "      <td>2021-03-10 15:21:38+09:00</td>\n",
              "      <td>420.1</td>\n",
              "      <td>420.1</td>\n",
              "      <td>257.8</td>\n",
              "      <td>28.3</td>\n",
              "    </tr>\n",
              "    <tr>\n",
              "      <th>141699</th>\n",
              "      <td>2021-03-10 15:21:39+09:00</td>\n",
              "      <td>419.0</td>\n",
              "      <td>419.0</td>\n",
              "      <td>282.0</td>\n",
              "      <td>28.4</td>\n",
              "    </tr>\n",
              "    <tr>\n",
              "      <th>141700</th>\n",
              "      <td>2021-03-10 15:21:40+09:00</td>\n",
              "      <td>418.9</td>\n",
              "      <td>418.9</td>\n",
              "      <td>264.4</td>\n",
              "      <td>28.3</td>\n",
              "    </tr>\n",
              "    <tr>\n",
              "      <th>141701</th>\n",
              "      <td>2021-03-10 15:21:41+09:00</td>\n",
              "      <td>419.8</td>\n",
              "      <td>419.8</td>\n",
              "      <td>260.9</td>\n",
              "      <td>28.3</td>\n",
              "    </tr>\n",
              "  </tbody>\n",
              "</table>\n",
              "<p>141702 rows × 5 columns</p>\n",
              "</div>"
            ],
            "text/plain": [
              "                         srvtime  value    rpm  current  torque\n",
              "0      2021-03-09 00:00:00+09:00  449.6  449.6    250.5    20.3\n",
              "1      2021-03-09 00:00:01+09:00  448.3  448.3    252.9    20.6\n",
              "2      2021-03-09 00:00:02+09:00  453.0  453.0    219.5     2.0\n",
              "3      2021-03-09 00:00:03+09:00  451.7  451.7    227.6     2.2\n",
              "4      2021-03-09 00:00:04+09:00  450.0  450.0    214.1     2.4\n",
              "...                          ...    ...    ...      ...     ...\n",
              "141697 2021-03-10 15:21:37+09:00  419.8  419.8    273.4    28.5\n",
              "141698 2021-03-10 15:21:38+09:00  420.1  420.1    257.8    28.3\n",
              "141699 2021-03-10 15:21:39+09:00  419.0  419.0    282.0    28.4\n",
              "141700 2021-03-10 15:21:40+09:00  418.9  418.9    264.4    28.3\n",
              "141701 2021-03-10 15:21:41+09:00  419.8  419.8    260.9    28.3\n",
              "\n",
              "[141702 rows x 5 columns]"
            ]
          },
          "metadata": {
            "tags": []
          },
          "execution_count": 144
        }
      ]
    },
    {
      "cell_type": "code",
      "metadata": {
        "colab": {
          "base_uri": "https://localhost:8080/"
        },
        "id": "ZgtfxKzkJb7g",
        "outputId": "8f21388c-d772-48b3-ea70-03fdab2ef985"
      },
      "source": [
        "series = isol.predict(x_test[['rpm', 'current', 'torque']])\n",
        "\n",
        "series\n",
        "\n",
        "x_test['outliers']=pd.Series(series).apply(lambda x: 'yes' if (x == -1) else 'no' )\n",
        "print(x_test)\n",
        "\n",
        "# 이상데이터 건수\n",
        "print(x_test[x_test.outliers=='yes'].count())\n",
        "\n",
        "# 정상데이터 건수\n",
        "print(x_test[x_test.outliers=='no'].count())"
      ],
      "execution_count": 145,
      "outputs": [
        {
          "output_type": "stream",
          "text": [
            "                         srvtime  value    rpm  current  torque outliers\n",
            "0      2021-03-09 00:00:00+09:00  449.6  449.6    250.5    20.3       no\n",
            "1      2021-03-09 00:00:01+09:00  448.3  448.3    252.9    20.6       no\n",
            "2      2021-03-09 00:00:02+09:00  453.0  453.0    219.5     2.0       no\n",
            "3      2021-03-09 00:00:03+09:00  451.7  451.7    227.6     2.2       no\n",
            "4      2021-03-09 00:00:04+09:00  450.0  450.0    214.1     2.4       no\n",
            "...                          ...    ...    ...      ...     ...      ...\n",
            "141697 2021-03-10 15:21:37+09:00  419.8  419.8    273.4    28.5       no\n",
            "141698 2021-03-10 15:21:38+09:00  420.1  420.1    257.8    28.3       no\n",
            "141699 2021-03-10 15:21:39+09:00  419.0  419.0    282.0    28.4       no\n",
            "141700 2021-03-10 15:21:40+09:00  418.9  418.9    264.4    28.3       no\n",
            "141701 2021-03-10 15:21:41+09:00  419.8  419.8    260.9    28.3       no\n",
            "\n",
            "[141702 rows x 6 columns]\n",
            "srvtime     1866\n",
            "value       1866\n",
            "rpm         1866\n",
            "current     1866\n",
            "torque      1866\n",
            "outliers    1866\n",
            "dtype: int64\n",
            "srvtime     139836\n",
            "value       139836\n",
            "rpm         139836\n",
            "current     139836\n",
            "torque      139836\n",
            "outliers    139836\n",
            "dtype: int64\n"
          ],
          "name": "stdout"
        }
      ]
    },
    {
      "cell_type": "markdown",
      "metadata": {
        "id": "vkQ2_QNvah0y"
      },
      "source": [
        "**Scatter 그래프 API를 사용하여 데이터 시각화**\n"
      ]
    },
    {
      "cell_type": "code",
      "metadata": {
        "colab": {
          "base_uri": "https://localhost:8080/",
          "height": 394
        },
        "id": "mHlqbPYqai2U",
        "outputId": "6843a596-4860-4340-c043-f7681e376362"
      },
      "source": [
        "#fig = px.scatter(df.reset_index(), x='srvtime', y='value', color='outliers', hover_data=['weekday', 'hour'], title='Anomaly Data')\n",
        "fig = px.scatter(x_test.reset_index(), x=['srvtime'], y=['rpm', 'current', 'torque'], color='outliers', hover_data=x_test, title='Anomaly Data')\n",
        "\n",
        "# 범위를 선택해서 slider로 조절함.(범위 슬라이더)\n",
        "fig.update_xaxes(\n",
        "    rangeslider_visible=True,\n",
        ")\n",
        "fig.show()"
      ],
      "execution_count": 147,
      "outputs": [
        {
          "output_type": "error",
          "ename": "ValueError",
          "evalue": "ignored",
          "traceback": [
            "\u001b[0;31m---------------------------------------------------------------------------\u001b[0m",
            "\u001b[0;31mValueError\u001b[0m                                Traceback (most recent call last)",
            "\u001b[0;32m<ipython-input-147-7a2179dd2172>\u001b[0m in \u001b[0;36m<module>\u001b[0;34m()\u001b[0m\n\u001b[1;32m      1\u001b[0m \u001b[0;31m#fig = px.scatter(df.reset_index(), x='srvtime', y='value', color='outliers', hover_data=['weekday', 'hour'], title='Anomaly Data')\u001b[0m\u001b[0;34m\u001b[0m\u001b[0;34m\u001b[0m\u001b[0;34m\u001b[0m\u001b[0m\n\u001b[0;32m----> 2\u001b[0;31m \u001b[0mfig\u001b[0m \u001b[0;34m=\u001b[0m \u001b[0mpx\u001b[0m\u001b[0;34m.\u001b[0m\u001b[0mscatter\u001b[0m\u001b[0;34m(\u001b[0m\u001b[0mx_test\u001b[0m\u001b[0;34m.\u001b[0m\u001b[0mreset_index\u001b[0m\u001b[0;34m(\u001b[0m\u001b[0;34m)\u001b[0m\u001b[0;34m,\u001b[0m \u001b[0mx\u001b[0m\u001b[0;34m=\u001b[0m\u001b[0;34m[\u001b[0m\u001b[0;34m'srvtime'\u001b[0m\u001b[0;34m]\u001b[0m\u001b[0;34m,\u001b[0m \u001b[0my\u001b[0m\u001b[0;34m=\u001b[0m\u001b[0;34m[\u001b[0m\u001b[0;34m'rpm'\u001b[0m\u001b[0;34m,\u001b[0m \u001b[0;34m'current'\u001b[0m\u001b[0;34m,\u001b[0m \u001b[0;34m'torque'\u001b[0m\u001b[0;34m]\u001b[0m\u001b[0;34m,\u001b[0m \u001b[0mcolor\u001b[0m\u001b[0;34m=\u001b[0m\u001b[0;34m'outliers'\u001b[0m\u001b[0;34m,\u001b[0m \u001b[0mhover_data\u001b[0m\u001b[0;34m=\u001b[0m\u001b[0mx_test\u001b[0m\u001b[0;34m,\u001b[0m \u001b[0mtitle\u001b[0m\u001b[0;34m=\u001b[0m\u001b[0;34m'Anomaly Data'\u001b[0m\u001b[0;34m)\u001b[0m\u001b[0;34m\u001b[0m\u001b[0;34m\u001b[0m\u001b[0m\n\u001b[0m\u001b[1;32m      3\u001b[0m \u001b[0;34m\u001b[0m\u001b[0m\n\u001b[1;32m      4\u001b[0m \u001b[0;31m# 범위를 선택해서 slider로 조절함.(범위 슬라이더)\u001b[0m\u001b[0;34m\u001b[0m\u001b[0;34m\u001b[0m\u001b[0;34m\u001b[0m\u001b[0m\n\u001b[1;32m      5\u001b[0m fig.update_xaxes(\n",
            "\u001b[0;32m/usr/local/lib/python3.7/dist-packages/plotly/express/_chart_types.py\u001b[0m in \u001b[0;36mscatter\u001b[0;34m(data_frame, x, y, color, symbol, size, hover_name, hover_data, custom_data, text, facet_row, facet_col, facet_col_wrap, error_x, error_x_minus, error_y, error_y_minus, animation_frame, animation_group, category_orders, labels, color_discrete_sequence, color_discrete_map, color_continuous_scale, range_color, color_continuous_midpoint, symbol_sequence, symbol_map, opacity, size_max, marginal_x, marginal_y, trendline, trendline_color_override, log_x, log_y, range_x, range_y, render_mode, title, template, width, height)\u001b[0m\n\u001b[1;32m     53\u001b[0m     \u001b[0mmark\u001b[0m \u001b[0;32min\u001b[0m \u001b[0;36m2\u001b[0m\u001b[0mD\u001b[0m \u001b[0mspace\u001b[0m\u001b[0;34m.\u001b[0m\u001b[0;34m\u001b[0m\u001b[0;34m\u001b[0m\u001b[0m\n\u001b[1;32m     54\u001b[0m     \"\"\"\n\u001b[0;32m---> 55\u001b[0;31m     \u001b[0;32mreturn\u001b[0m \u001b[0mmake_figure\u001b[0m\u001b[0;34m(\u001b[0m\u001b[0margs\u001b[0m\u001b[0;34m=\u001b[0m\u001b[0mlocals\u001b[0m\u001b[0;34m(\u001b[0m\u001b[0;34m)\u001b[0m\u001b[0;34m,\u001b[0m \u001b[0mconstructor\u001b[0m\u001b[0;34m=\u001b[0m\u001b[0mgo\u001b[0m\u001b[0;34m.\u001b[0m\u001b[0mScatter\u001b[0m\u001b[0;34m)\u001b[0m\u001b[0;34m\u001b[0m\u001b[0;34m\u001b[0m\u001b[0m\n\u001b[0m\u001b[1;32m     56\u001b[0m \u001b[0;34m\u001b[0m\u001b[0m\n\u001b[1;32m     57\u001b[0m \u001b[0;34m\u001b[0m\u001b[0m\n",
            "\u001b[0;32m/usr/local/lib/python3.7/dist-packages/plotly/express/_core.py\u001b[0m in \u001b[0;36mmake_figure\u001b[0;34m(args, constructor, trace_patch, layout_patch)\u001b[0m\n\u001b[1;32m   1170\u001b[0m \u001b[0;34m\u001b[0m\u001b[0m\n\u001b[1;32m   1171\u001b[0m     args, trace_specs, grouped_mappings, sizeref, show_colorbar = infer_config(\n\u001b[0;32m-> 1172\u001b[0;31m         \u001b[0margs\u001b[0m\u001b[0;34m,\u001b[0m \u001b[0mconstructor\u001b[0m\u001b[0;34m,\u001b[0m \u001b[0mtrace_patch\u001b[0m\u001b[0;34m\u001b[0m\u001b[0;34m\u001b[0m\u001b[0m\n\u001b[0m\u001b[1;32m   1173\u001b[0m     )\n\u001b[1;32m   1174\u001b[0m     \u001b[0mgrouper\u001b[0m \u001b[0;34m=\u001b[0m \u001b[0;34m[\u001b[0m\u001b[0mx\u001b[0m\u001b[0;34m.\u001b[0m\u001b[0mgrouper\u001b[0m \u001b[0;32mor\u001b[0m \u001b[0mone_group\u001b[0m \u001b[0;32mfor\u001b[0m \u001b[0mx\u001b[0m \u001b[0;32min\u001b[0m \u001b[0mgrouped_mappings\u001b[0m\u001b[0;34m]\u001b[0m \u001b[0;32mor\u001b[0m \u001b[0;34m[\u001b[0m\u001b[0mone_group\u001b[0m\u001b[0;34m]\u001b[0m\u001b[0;34m\u001b[0m\u001b[0;34m\u001b[0m\u001b[0m\n",
            "\u001b[0;32m/usr/local/lib/python3.7/dist-packages/plotly/express/_core.py\u001b[0m in \u001b[0;36minfer_config\u001b[0;34m(args, constructor, trace_patch)\u001b[0m\n\u001b[1;32m   1026\u001b[0m             \u001b[0mall_attrables\u001b[0m \u001b[0;34m+=\u001b[0m \u001b[0;34m[\u001b[0m\u001b[0mgroup_attr\u001b[0m\u001b[0;34m]\u001b[0m\u001b[0;34m\u001b[0m\u001b[0;34m\u001b[0m\u001b[0m\n\u001b[1;32m   1027\u001b[0m \u001b[0;34m\u001b[0m\u001b[0m\n\u001b[0;32m-> 1028\u001b[0;31m     \u001b[0margs\u001b[0m \u001b[0;34m=\u001b[0m \u001b[0mbuild_dataframe\u001b[0m\u001b[0;34m(\u001b[0m\u001b[0margs\u001b[0m\u001b[0;34m,\u001b[0m \u001b[0mall_attrables\u001b[0m\u001b[0;34m,\u001b[0m \u001b[0marray_attrables\u001b[0m\u001b[0;34m)\u001b[0m\u001b[0;34m\u001b[0m\u001b[0;34m\u001b[0m\u001b[0m\n\u001b[0m\u001b[1;32m   1029\u001b[0m \u001b[0;34m\u001b[0m\u001b[0m\n\u001b[1;32m   1030\u001b[0m     \u001b[0mattrs\u001b[0m \u001b[0;34m=\u001b[0m \u001b[0;34m[\u001b[0m\u001b[0mk\u001b[0m \u001b[0;32mfor\u001b[0m \u001b[0mk\u001b[0m \u001b[0;32min\u001b[0m \u001b[0mattrables\u001b[0m \u001b[0;32mif\u001b[0m \u001b[0mk\u001b[0m \u001b[0;32min\u001b[0m \u001b[0margs\u001b[0m\u001b[0;34m]\u001b[0m\u001b[0;34m\u001b[0m\u001b[0;34m\u001b[0m\u001b[0m\n",
            "\u001b[0;32m/usr/local/lib/python3.7/dist-packages/plotly/express/_core.py\u001b[0m in \u001b[0;36mbuild_dataframe\u001b[0;34m(args, attrables, array_attrables)\u001b[0m\n\u001b[1;32m    991\u001b[0m                         \u001b[0;34m\"The length of argument `%s` is %d, whereas the \"\u001b[0m\u001b[0;34m\u001b[0m\u001b[0;34m\u001b[0m\u001b[0m\n\u001b[1;32m    992\u001b[0m                         \u001b[0;34m\"length of previous arguments %s is %d\"\u001b[0m\u001b[0;34m\u001b[0m\u001b[0;34m\u001b[0m\u001b[0m\n\u001b[0;32m--> 993\u001b[0;31m                         \u001b[0;34m%\u001b[0m \u001b[0;34m(\u001b[0m\u001b[0mfield\u001b[0m\u001b[0;34m,\u001b[0m \u001b[0mlen\u001b[0m\u001b[0;34m(\u001b[0m\u001b[0margument\u001b[0m\u001b[0;34m)\u001b[0m\u001b[0;34m,\u001b[0m \u001b[0mstr\u001b[0m\u001b[0;34m(\u001b[0m\u001b[0mlist\u001b[0m\u001b[0;34m(\u001b[0m\u001b[0mdf_output\u001b[0m\u001b[0;34m.\u001b[0m\u001b[0mcolumns\u001b[0m\u001b[0;34m)\u001b[0m\u001b[0;34m)\u001b[0m\u001b[0;34m,\u001b[0m \u001b[0mlength\u001b[0m\u001b[0;34m)\u001b[0m\u001b[0;34m\u001b[0m\u001b[0;34m\u001b[0m\u001b[0m\n\u001b[0m\u001b[1;32m    994\u001b[0m                     )\n\u001b[1;32m    995\u001b[0m                 \u001b[0;32mif\u001b[0m \u001b[0mhasattr\u001b[0m\u001b[0;34m(\u001b[0m\u001b[0margument\u001b[0m\u001b[0;34m,\u001b[0m \u001b[0;34m\"values\"\u001b[0m\u001b[0;34m)\u001b[0m\u001b[0;34m:\u001b[0m\u001b[0;34m\u001b[0m\u001b[0;34m\u001b[0m\u001b[0m\n",
            "\u001b[0;31mValueError\u001b[0m: All arguments should have the same length. The length of argument `y` is 3, whereas the length of previous arguments ['x'] is 1"
          ]
        }
      ]
    },
    {
      "cell_type": "code",
      "metadata": {
        "id": "uIpSJeu-jepz"
      },
      "source": [
        ""
      ],
      "execution_count": null,
      "outputs": []
    }
  ]
}