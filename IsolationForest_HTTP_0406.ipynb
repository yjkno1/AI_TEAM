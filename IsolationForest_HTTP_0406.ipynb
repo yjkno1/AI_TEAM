{
  "nbformat": 4,
  "nbformat_minor": 0,
  "metadata": {
    "colab": {
      "name": "IsolationForest_HTTP_0406.ipynb",
      "provenance": [],
      "collapsed_sections": [],
      "authorship_tag": "ABX9TyOegnSbn+NTIUIKFnY/cek+",
      "include_colab_link": true
    },
    "kernelspec": {
      "name": "python3",
      "display_name": "Python 3"
    },
    "language_info": {
      "name": "python"
    },
    "accelerator": "GPU"
  },
  "cells": [
    {
      "cell_type": "markdown",
      "metadata": {
        "id": "view-in-github",
        "colab_type": "text"
      },
      "source": [
        "<a href=\"https://colab.research.google.com/github/yjkno1/AI_TEAM/blob/main/IsolationForest_HTTP_0406.ipynb\" target=\"_parent\"><img src=\"https://colab.research.google.com/assets/colab-badge.svg\" alt=\"Open In Colab\"/></a>"
      ]
    },
    {
      "cell_type": "markdown",
      "metadata": {
        "id": "v91GEJjdWfks"
      },
      "source": [
        "**필요파일 Import**\n"
      ]
    },
    {
      "cell_type": "code",
      "metadata": {
        "id": "P0PDkKoEUJxv"
      },
      "source": [
        "import csv\n",
        "import numpy as np\n",
        "import matplotlib.pyplot as plt\n",
        "import pandas as pd\n",
        "from sklearn.ensemble import IsolationForest\n",
        "\n",
        "import ftplib\n",
        "import os\n",
        "import pickle\n",
        "from os import unlink\n",
        "\n",
        "import plotly.express as px\n",
        "\n",
        "# Google Drive 에서 파일 가져올때 사용\n",
        "# from google.colab import drive\n",
        "# drive.mount('/gdrive', force_remount=True)\n"
      ],
      "execution_count": null,
      "outputs": []
    },
    {
      "cell_type": "markdown",
      "metadata": {
        "id": "w3Puo1CRWpih"
      },
      "source": [
        "**Dataframe 생성**"
      ]
    },
    {
      "cell_type": "code",
      "metadata": {
        "colab": {
          "base_uri": "https://localhost:8080/",
          "height": 635
        },
        "id": "QD-JbfKQWpVC",
        "outputId": "519e0806-7c30-4f8b-9074-5cd2149168e0"
      },
      "source": [
        "# 위와같이 파일을 읽을때 date 컬럼의 타입을 지정할수 있고\n",
        "# df['srvtime'] = pd.to_datetime(df['srvtime]) 이런형태로 나중에 변경 할수도 있다.\n",
        "\n",
        "csv_file = \"http://yjkno1.synology.me:8081/file/http_csv.csv\"\n",
        "\n",
        "# 가져올 비율 0.1 은 10%\n",
        "train_per = 0.7\n",
        "real_per = 0.3\n",
        "\n",
        "df = pd.read_csv(csv_file, skiprows = lambda x:x>0 and np.random.rand() > train_per)\n",
        "\n",
        "rDf = pd.read_csv(csv_file, skiprows = lambda x:x>0 and np.random.rand() > real_per)\n",
        "\n",
        "allDf = pd.read_csv(csv_file)\n",
        "\n",
        "df.describe()\n",
        "\n",
        "df.info()\n",
        "\n",
        "df"
      ],
      "execution_count": null,
      "outputs": [
        {
          "output_type": "stream",
          "text": [
            "<class 'pandas.core.frame.DataFrame'>\n",
            "RangeIndex: 397181 entries, 0 to 397180\n",
            "Data columns (total 5 columns):\n",
            " #   Column      Non-Null Count   Dtype  \n",
            "---  ------      --------------   -----  \n",
            " 0   time_stamp  397181 non-null  int64  \n",
            " 1   value_1     397181 non-null  float64\n",
            " 2   value_2     397181 non-null  float64\n",
            " 3   value_3     397181 non-null  float64\n",
            " 4   abnomal     397181 non-null  int64  \n",
            "dtypes: float64(3), int64(2)\n",
            "memory usage: 15.2 MB\n"
          ],
          "name": "stdout"
        },
        {
          "output_type": "execute_result",
          "data": {
            "text/html": [
              "<div>\n",
              "<style scoped>\n",
              "    .dataframe tbody tr th:only-of-type {\n",
              "        vertical-align: middle;\n",
              "    }\n",
              "\n",
              "    .dataframe tbody tr th {\n",
              "        vertical-align: top;\n",
              "    }\n",
              "\n",
              "    .dataframe thead th {\n",
              "        text-align: right;\n",
              "    }\n",
              "</style>\n",
              "<table border=\"1\" class=\"dataframe\">\n",
              "  <thead>\n",
              "    <tr style=\"text-align: right;\">\n",
              "      <th></th>\n",
              "      <th>time_stamp</th>\n",
              "      <th>value_1</th>\n",
              "      <th>value_2</th>\n",
              "      <th>value_3</th>\n",
              "      <th>abnomal</th>\n",
              "    </tr>\n",
              "  </thead>\n",
              "  <tbody>\n",
              "    <tr>\n",
              "      <th>0</th>\n",
              "      <td>1</td>\n",
              "      <td>-2.302585</td>\n",
              "      <td>5.371103</td>\n",
              "      <td>10.716107</td>\n",
              "      <td>0</td>\n",
              "    </tr>\n",
              "    <tr>\n",
              "      <th>1</th>\n",
              "      <td>5</td>\n",
              "      <td>-2.302585</td>\n",
              "      <td>5.476882</td>\n",
              "      <td>6.186414</td>\n",
              "      <td>0</td>\n",
              "    </tr>\n",
              "    <tr>\n",
              "      <th>2</th>\n",
              "      <td>6</td>\n",
              "      <td>-2.302585</td>\n",
              "      <td>5.472691</td>\n",
              "      <td>7.156255</td>\n",
              "      <td>0</td>\n",
              "    </tr>\n",
              "    <tr>\n",
              "      <th>3</th>\n",
              "      <td>7</td>\n",
              "      <td>-2.302585</td>\n",
              "      <td>5.460011</td>\n",
              "      <td>7.198258</td>\n",
              "      <td>0</td>\n",
              "    </tr>\n",
              "    <tr>\n",
              "      <th>4</th>\n",
              "      <td>8</td>\n",
              "      <td>-2.302585</td>\n",
              "      <td>5.455748</td>\n",
              "      <td>7.218250</td>\n",
              "      <td>0</td>\n",
              "    </tr>\n",
              "    <tr>\n",
              "      <th>...</th>\n",
              "      <td>...</td>\n",
              "      <td>...</td>\n",
              "      <td>...</td>\n",
              "      <td>...</td>\n",
              "      <td>...</td>\n",
              "    </tr>\n",
              "    <tr>\n",
              "      <th>397176</th>\n",
              "      <td>567490</td>\n",
              "      <td>-2.302585</td>\n",
              "      <td>5.673667</td>\n",
              "      <td>6.999514</td>\n",
              "      <td>0</td>\n",
              "    </tr>\n",
              "    <tr>\n",
              "      <th>397177</th>\n",
              "      <td>567491</td>\n",
              "      <td>-2.302585</td>\n",
              "      <td>5.673667</td>\n",
              "      <td>7.529460</td>\n",
              "      <td>0</td>\n",
              "    </tr>\n",
              "    <tr>\n",
              "      <th>397178</th>\n",
              "      <td>567492</td>\n",
              "      <td>-2.302585</td>\n",
              "      <td>5.069533</td>\n",
              "      <td>9.668278</td>\n",
              "      <td>0</td>\n",
              "    </tr>\n",
              "    <tr>\n",
              "      <th>397179</th>\n",
              "      <td>567495</td>\n",
              "      <td>-2.302585</td>\n",
              "      <td>5.389528</td>\n",
              "      <td>5.464255</td>\n",
              "      <td>0</td>\n",
              "    </tr>\n",
              "    <tr>\n",
              "      <th>397180</th>\n",
              "      <td>567497</td>\n",
              "      <td>-2.302585</td>\n",
              "      <td>5.389528</td>\n",
              "      <td>7.118097</td>\n",
              "      <td>0</td>\n",
              "    </tr>\n",
              "  </tbody>\n",
              "</table>\n",
              "<p>397181 rows × 5 columns</p>\n",
              "</div>"
            ],
            "text/plain": [
              "        time_stamp   value_1   value_2    value_3  abnomal\n",
              "0                1 -2.302585  5.371103  10.716107        0\n",
              "1                5 -2.302585  5.476882   6.186414        0\n",
              "2                6 -2.302585  5.472691   7.156255        0\n",
              "3                7 -2.302585  5.460011   7.198258        0\n",
              "4                8 -2.302585  5.455748   7.218250        0\n",
              "...            ...       ...       ...        ...      ...\n",
              "397176      567490 -2.302585  5.673667   6.999514        0\n",
              "397177      567491 -2.302585  5.673667   7.529460        0\n",
              "397178      567492 -2.302585  5.069533   9.668278        0\n",
              "397179      567495 -2.302585  5.389528   5.464255        0\n",
              "397180      567497 -2.302585  5.389528   7.118097        0\n",
              "\n",
              "[397181 rows x 5 columns]"
            ]
          },
          "metadata": {
            "tags": []
          },
          "execution_count": 4
        }
      ]
    },
    {
      "cell_type": "markdown",
      "metadata": {
        "id": "ZY0ZlcyXXGYb"
      },
      "source": [
        "**index 기준 Metric 만들기**\n"
      ]
    },
    {
      "cell_type": "code",
      "metadata": {
        "id": "Vr6ZW1ZLXJC_"
      },
      "source": [
        "x_train = df\n"
      ],
      "execution_count": null,
      "outputs": []
    },
    {
      "cell_type": "code",
      "metadata": {
        "id": "lg4v6L_SILxB",
        "colab": {
          "base_uri": "https://localhost:8080/",
          "height": 283
        },
        "outputId": "c7978167-420b-4916-8962-72f71f5994ae"
      },
      "source": [
        "x_train[[\"value_1\", \"value_2\", \"value_3\"]].plot()"
      ],
      "execution_count": null,
      "outputs": [
        {
          "output_type": "execute_result",
          "data": {
            "text/plain": [
              "<matplotlib.axes._subplots.AxesSubplot at 0x7f677be16450>"
            ]
          },
          "metadata": {
            "tags": []
          },
          "execution_count": 6
        },
        {
          "output_type": "display_data",
          "data": {
            "image/png": "[encoded data removed]",
            "text/plain": [
              "<Figure size 432x288 with 1 Axes>"
            ]
          },
          "metadata": {
            "tags": [],
            "needs_background": "light"
          }
        }
      ]
    },
    {
      "cell_type": "markdown",
      "metadata": {
        "id": "kvD5-n6qXqzW"
      },
      "source": [
        "**Model 만들기 함수**"
      ]
    },
    {
      "cell_type": "code",
      "metadata": {
        "id": "yDlrUAmKXrQO"
      },
      "source": [
        "def isolation_forest_model(state_seed=20, n_estimators=100, max_samples=128, contamination=float(0.004)):\n",
        "  state_value = np.random.RandomState(state_seed)\n",
        "  return IsolationForest(n_estimators=n_estimators, max_samples=max_samples, contamination=contamination, random_state=state_value)\n",
        "\n",
        "\n",
        "# ftp 접속 후 ftp객체 반환\n",
        "def ftp_login(host, port, user, password):\n",
        "  ftp=ftplib.FTP()\n",
        "  ftp.connect(host,port)\n",
        "  ftp.login(user, password)\n",
        "  ftp.cwd(\"./\")\n",
        "  return ftp\n",
        "\n",
        "# model을 ftp로 업로드\n",
        "def save_model_to_ftp(ftp, filename, model):\n",
        "  myfile = open(filename,'wb')\n",
        "  # Save model\n",
        "  pickle.dump(model, myfile)\n",
        "  ftpFile = open(filename, 'rb')\n",
        "  ftp.storbinary(\"STOR /share/\"+filename, ftpFile)\n",
        "  myfile.close()\n",
        "  ftpFile.close()\n",
        "\n",
        "# ftp에서 model을 Load\n",
        "def load_model_to_ftp(ftp, filename):\n",
        "  myfile = open(filename,'wb')\n",
        "  ftp.retrbinary(\"RETR /share/\"+filename, myfile.write)\n",
        "  myfile.close()\n",
        "  ftpFile = open(filename, 'rb')\n",
        "  model = pickle.load(ftpFile)\n",
        "  ftpFile.close()\n",
        "  return model\n",
        "\n",
        "def plot_confusion_matrix(cm,target_names,title='Confusion matrix',cmap=None,\n",
        "                          normalize=False):\n",
        "    import itertools\n",
        "    accuracy = np.trace(cm) / float(np.sum(cm))\n",
        "    misclass = 1 - accuracy\n",
        "\n",
        "    if cmap is None:\n",
        "        cmap = plt.get_cmap('Blues')\n",
        "\n",
        "    plt.figure(figsize=(8, 6))\n",
        "    plt.imshow(cm, interpolation='nearest', cmap=cmap)\n",
        "    plt.title(title)\n",
        "    plt.colorbar()\n",
        "\n",
        "    if target_names is not None:\n",
        "        tick_marks = np.arange(len(target_names))\n",
        "        plt.xticks(tick_marks, target_names, rotation=45)\n",
        "        plt.yticks(tick_marks, target_names)\n",
        "\n",
        "    if normalize:\n",
        "        cm = cm.astype('float') / cm.sum(axis=1)[:, np.newaxis]\n",
        "        \n",
        "    thresh = cm.max() / 1.5 if normalize else cm.max() / 2\n",
        "    for i, j in itertools.product(range(cm.shape[0]), range(cm.shape[1])):\n",
        "        if normalize:\n",
        "            plt.text(j, i, \"{:0.4f}\".format(cm[i, j]),\n",
        "                     horizontalalignment=\"center\",\n",
        "                     color=\"white\" if cm[i, j] > thresh else \"black\")\n",
        "        else:\n",
        "            plt.text(j, i, \"{:,}\".format(cm[i, j]),\n",
        "                     horizontalalignment=\"center\",\n",
        "                     color=\"white\" if cm[i, j] > thresh else \"black\")\n",
        "\n",
        "\n",
        "    plt.tight_layout()\n",
        "    plt.ylabel('True label')\n",
        "    plt.xlabel('Predicted label\\naccuracy={:0.4f}; misclass={:0.4f}'.format(accuracy, misclass))\n",
        "    plt.show()\n"
      ],
      "execution_count": null,
      "outputs": []
    },
    {
      "cell_type": "markdown",
      "metadata": {
        "id": "5_Vs1ImIZbTq"
      },
      "source": [
        "**Model 생성**"
      ]
    },
    {
      "cell_type": "code",
      "metadata": {
        "colab": {
          "base_uri": "https://localhost:8080/"
        },
        "id": "xHK6byirZdX5",
        "outputId": "695620b1-e070-4e80-88d5-6e6cd751a87d"
      },
      "source": [
        "isol = isolation_forest_model(20, 100, 128, float(0.004))\n",
        "\n",
        "isol"
      ],
      "execution_count": null,
      "outputs": [
        {
          "output_type": "execute_result",
          "data": {
            "text/plain": [
              "IsolationForest(behaviour='deprecated', bootstrap=False, contamination=0.004,\n",
              "                max_features=1.0, max_samples=128, n_estimators=100,\n",
              "                n_jobs=None,\n",
              "                random_state=RandomState(MT19937) at 0x7F677BE5C9E0, verbose=0,\n",
              "                warm_start=False)"
            ]
          },
          "metadata": {
            "tags": []
          },
          "execution_count": 8
        }
      ]
    },
    {
      "cell_type": "code",
      "metadata": {
        "colab": {
          "base_uri": "https://localhost:8080/"
        },
        "id": "tpw4H_WzFMYA",
        "outputId": "a3c63951-4811-4ebe-e36c-3c6a14c55975"
      },
      "source": [
        "isol.fit(x_train[[\"value_1\", \"value_2\", \"value_3\"]])\n"
      ],
      "execution_count": null,
      "outputs": [
        {
          "output_type": "execute_result",
          "data": {
            "text/plain": [
              "IsolationForest(behaviour='deprecated', bootstrap=False, contamination=0.004,\n",
              "                max_features=1.0, max_samples=128, n_estimators=100,\n",
              "                n_jobs=None,\n",
              "                random_state=RandomState(MT19937) at 0x7F677BE5C9E0, verbose=0,\n",
              "                warm_start=False)"
            ]
          },
          "metadata": {
            "tags": []
          },
          "execution_count": 9
        }
      ]
    },
    {
      "cell_type": "code",
      "metadata": {
        "id": "eVYQ6eJPJNqm",
        "colab": {
          "base_uri": "https://localhost:8080/",
          "height": 419
        },
        "outputId": "3e8d6f99-78fb-4751-a308-f2df9bdaefde"
      },
      "source": [
        "#x_test = rDf[rDf.eq(df).any(axis=1) == False].copy()\n",
        "x_test = rDf\n",
        "#x_test = allDf\n",
        "x_test\n",
        "\n",
        "\n",
        "#x_test[[\"value_1\", \"value_2\", \"value_3\"]]"
      ],
      "execution_count": null,
      "outputs": [
        {
          "output_type": "execute_result",
          "data": {
            "text/html": [
              "<div>\n",
              "<style scoped>\n",
              "    .dataframe tbody tr th:only-of-type {\n",
              "        vertical-align: middle;\n",
              "    }\n",
              "\n",
              "    .dataframe tbody tr th {\n",
              "        vertical-align: top;\n",
              "    }\n",
              "\n",
              "    .dataframe thead th {\n",
              "        text-align: right;\n",
              "    }\n",
              "</style>\n",
              "<table border=\"1\" class=\"dataframe\">\n",
              "  <thead>\n",
              "    <tr style=\"text-align: right;\">\n",
              "      <th></th>\n",
              "      <th>time_stamp</th>\n",
              "      <th>value_1</th>\n",
              "      <th>value_2</th>\n",
              "      <th>value_3</th>\n",
              "      <th>abnomal</th>\n",
              "    </tr>\n",
              "  </thead>\n",
              "  <tbody>\n",
              "    <tr>\n",
              "      <th>0</th>\n",
              "      <td>3</td>\n",
              "      <td>-2.302585</td>\n",
              "      <td>5.464255</td>\n",
              "      <td>7.113224</td>\n",
              "      <td>0</td>\n",
              "    </tr>\n",
              "    <tr>\n",
              "      <th>1</th>\n",
              "      <td>6</td>\n",
              "      <td>-2.302585</td>\n",
              "      <td>5.472691</td>\n",
              "      <td>7.156255</td>\n",
              "      <td>0</td>\n",
              "    </tr>\n",
              "    <tr>\n",
              "      <th>2</th>\n",
              "      <td>10</td>\n",
              "      <td>-2.302585</td>\n",
              "      <td>5.199049</td>\n",
              "      <td>8.603389</td>\n",
              "      <td>0</td>\n",
              "    </tr>\n",
              "    <tr>\n",
              "      <th>3</th>\n",
              "      <td>11</td>\n",
              "      <td>-2.302585</td>\n",
              "      <td>5.215479</td>\n",
              "      <td>4.821088</td>\n",
              "      <td>0</td>\n",
              "    </tr>\n",
              "    <tr>\n",
              "      <th>4</th>\n",
              "      <td>12</td>\n",
              "      <td>-2.302585</td>\n",
              "      <td>5.220896</td>\n",
              "      <td>9.107211</td>\n",
              "      <td>0</td>\n",
              "    </tr>\n",
              "    <tr>\n",
              "      <th>...</th>\n",
              "      <td>...</td>\n",
              "      <td>...</td>\n",
              "      <td>...</td>\n",
              "      <td>...</td>\n",
              "      <td>...</td>\n",
              "    </tr>\n",
              "    <tr>\n",
              "      <th>170237</th>\n",
              "      <td>567487</td>\n",
              "      <td>-2.302585</td>\n",
              "      <td>5.673667</td>\n",
              "      <td>7.090160</td>\n",
              "      <td>0</td>\n",
              "    </tr>\n",
              "    <tr>\n",
              "      <th>170238</th>\n",
              "      <td>567490</td>\n",
              "      <td>-2.302585</td>\n",
              "      <td>5.673667</td>\n",
              "      <td>6.999514</td>\n",
              "      <td>0</td>\n",
              "    </tr>\n",
              "    <tr>\n",
              "      <th>170239</th>\n",
              "      <td>567491</td>\n",
              "      <td>-2.302585</td>\n",
              "      <td>5.673667</td>\n",
              "      <td>7.529460</td>\n",
              "      <td>0</td>\n",
              "    </tr>\n",
              "    <tr>\n",
              "      <th>170240</th>\n",
              "      <td>567493</td>\n",
              "      <td>-2.302585</td>\n",
              "      <td>5.389528</td>\n",
              "      <td>5.497578</td>\n",
              "      <td>0</td>\n",
              "    </tr>\n",
              "    <tr>\n",
              "      <th>170241</th>\n",
              "      <td>567498</td>\n",
              "      <td>-2.302585</td>\n",
              "      <td>5.389528</td>\n",
              "      <td>7.001337</td>\n",
              "      <td>0</td>\n",
              "    </tr>\n",
              "  </tbody>\n",
              "</table>\n",
              "<p>170242 rows × 5 columns</p>\n",
              "</div>"
            ],
            "text/plain": [
              "        time_stamp   value_1   value_2   value_3  abnomal\n",
              "0                3 -2.302585  5.464255  7.113224        0\n",
              "1                6 -2.302585  5.472691  7.156255        0\n",
              "2               10 -2.302585  5.199049  8.603389        0\n",
              "3               11 -2.302585  5.215479  4.821088        0\n",
              "4               12 -2.302585  5.220896  9.107211        0\n",
              "...            ...       ...       ...       ...      ...\n",
              "170237      567487 -2.302585  5.673667  7.090160        0\n",
              "170238      567490 -2.302585  5.673667  6.999514        0\n",
              "170239      567491 -2.302585  5.673667  7.529460        0\n",
              "170240      567493 -2.302585  5.389528  5.497578        0\n",
              "170241      567498 -2.302585  5.389528  7.001337        0\n",
              "\n",
              "[170242 rows x 5 columns]"
            ]
          },
          "metadata": {
            "tags": []
          },
          "execution_count": 10
        }
      ]
    },
    {
      "cell_type": "code",
      "metadata": {
        "colab": {
          "base_uri": "https://localhost:8080/"
        },
        "id": "Gw1usKUbYWri",
        "outputId": "6cd750fe-c1fe-486c-fe03-4445598b139c"
      },
      "source": [
        "# # Model 저장해 두기.\n",
        "# filename=\"iForest_HTTP.model\"\n",
        "\n",
        "# ftp = ftp_login(\"yjkno1.synology.me\", 2121, \"ftp_user\", \"wnsxhtm1212\")\n",
        "\n",
        "# # Model 저장하기\n",
        "# save_model_to_ftp(ftp, filename)\n",
        "\n",
        "# # Model 불러오기\n",
        "# i_sol = load_model_to_ftp(ftp, filename)\n",
        "\n",
        "# print(i_sol)\n"
      ],
      "execution_count": null,
      "outputs": [
        {
          "output_type": "stream",
          "text": [
            "IsolationForest(behaviour='deprecated', bootstrap=False, contamination=0.004,\n",
            "                max_features=1.0, max_samples=128, n_estimators=100,\n",
            "                n_jobs=None,\n",
            "                random_state=RandomState(MT19937) at 0x7F49E1110D10, verbose=0,\n",
            "                warm_start=False)\n"
          ],
          "name": "stdout"
        }
      ]
    },
    {
      "cell_type": "code",
      "metadata": {
        "colab": {
          "base_uri": "https://localhost:8080/"
        },
        "id": "ZgtfxKzkJb7g",
        "outputId": "92f1e4c4-b710-45ce-bd19-7691890eda0f"
      },
      "source": [
        "series = isol.predict(x_test[[\"value_1\", \"value_2\", \"value_3\"]])\n",
        "print(series)\n",
        "print(series.size)\n",
        "#x_test = x_test.reset_index()\n",
        "\n",
        "x_test['outliers']= pd.Series(series).apply(lambda x: '1' if (x == -1) else '0' )\n",
        "\n",
        "print(x_test)\n",
        "print(series.size)\n",
        "\n",
        "# 이상데이터 건수\n",
        "print(x_test[x_test['outliers']=='1'].count())\n",
        "\n",
        "# 정상데이터 건수\n",
        "print(x_test[x_test['outliers']=='0'].count())\n",
        "\n",
        "print(x_test.isnull().sum().sum())\n",
        "\n",
        "print(x_test)"
      ],
      "execution_count": null,
      "outputs": [
        {
          "output_type": "stream",
          "text": [
            "[1 1 1 ... 1 1 1]\n",
            "170242\n",
            "        time_stamp   value_1   value_2   value_3  abnomal outliers\n",
            "0                3 -2.302585  5.464255  7.113224        0        0\n",
            "1                6 -2.302585  5.472691  7.156255        0        0\n",
            "2               10 -2.302585  5.199049  8.603389        0        0\n",
            "3               11 -2.302585  5.215479  4.821088        0        0\n",
            "4               12 -2.302585  5.220896  9.107211        0        0\n",
            "...            ...       ...       ...       ...      ...      ...\n",
            "170237      567487 -2.302585  5.673667  7.090160        0        0\n",
            "170238      567490 -2.302585  5.673667  6.999514        0        0\n",
            "170239      567491 -2.302585  5.673667  7.529460        0        0\n",
            "170240      567493 -2.302585  5.389528  5.497578        0        0\n",
            "170241      567498 -2.302585  5.389528  7.001337        0        0\n",
            "\n",
            "[170242 rows x 6 columns]\n",
            "170242\n",
            "time_stamp    510\n",
            "value_1       510\n",
            "value_2       510\n",
            "value_3       510\n",
            "abnomal       510\n",
            "outliers      510\n",
            "dtype: int64\n",
            "time_stamp    169732\n",
            "value_1       169732\n",
            "value_2       169732\n",
            "value_3       169732\n",
            "abnomal       169732\n",
            "outliers      169732\n",
            "dtype: int64\n",
            "0\n",
            "        time_stamp   value_1   value_2   value_3  abnomal outliers\n",
            "0                3 -2.302585  5.464255  7.113224        0        0\n",
            "1                6 -2.302585  5.472691  7.156255        0        0\n",
            "2               10 -2.302585  5.199049  8.603389        0        0\n",
            "3               11 -2.302585  5.215479  4.821088        0        0\n",
            "4               12 -2.302585  5.220896  9.107211        0        0\n",
            "...            ...       ...       ...       ...      ...      ...\n",
            "170237      567487 -2.302585  5.673667  7.090160        0        0\n",
            "170238      567490 -2.302585  5.673667  6.999514        0        0\n",
            "170239      567491 -2.302585  5.673667  7.529460        0        0\n",
            "170240      567493 -2.302585  5.389528  5.497578        0        0\n",
            "170241      567498 -2.302585  5.389528  7.001337        0        0\n",
            "\n",
            "[170242 rows x 6 columns]\n"
          ],
          "name": "stdout"
        }
      ]
    },
    {
      "cell_type": "markdown",
      "metadata": {
        "id": "-nQT26STQiAC"
      },
      "source": [
        "**평가**"
      ]
    },
    {
      "cell_type": "code",
      "metadata": {
        "colab": {
          "base_uri": "https://localhost:8080/",
          "height": 701
        },
        "id": "UvG4aj-mQhBE",
        "outputId": "3d86cd8b-7715-451b-bbf0-e052bab2dd25"
      },
      "source": [
        "from sklearn.metrics import confusion_matrix\n",
        "\n",
        "x_test[\"outliers\"] = pd.to_numeric(x_test[\"outliers\"])\n",
        "\n",
        "x_test.info()\n",
        "\n",
        "CM = confusion_matrix(x_test[[\"abnomal\"]], x_test[[\"outliers\"]])\n",
        "\n",
        "plot_confusion_matrix(CM, target_names=[\"normal\", \"outlier\"], title=\"Confution Matrix\", normalize = False)\n",
        "\n"
      ],
      "execution_count": null,
      "outputs": [
        {
          "output_type": "stream",
          "text": [
            "<class 'pandas.core.frame.DataFrame'>\n",
            "RangeIndex: 170242 entries, 0 to 170241\n",
            "Data columns (total 6 columns):\n",
            " #   Column      Non-Null Count   Dtype  \n",
            "---  ------      --------------   -----  \n",
            " 0   time_stamp  170242 non-null  int64  \n",
            " 1   value_1     170242 non-null  float64\n",
            " 2   value_2     170242 non-null  float64\n",
            " 3   value_3     170242 non-null  float64\n",
            " 4   abnomal     170242 non-null  int64  \n",
            " 5   outliers    170242 non-null  int64  \n",
            "dtypes: float64(3), int64(3)\n",
            "memory usage: 7.8 MB\n"
          ],
          "name": "stdout"
        },
        {
          "output_type": "display_data",
          "data": {
            "image/png": "[encoded data removed]",
            "text/plain": [
              "<Figure size 576x432 with 2 Axes>"
            ]
          },
          "metadata": {
            "tags": [],
            "needs_background": "light"
          }
        }
      ]
    },
    {
      "cell_type": "code",
      "metadata": {
        "colab": {
          "base_uri": "https://localhost:8080/"
        },
        "id": "NT6c4raNRbJ8",
        "outputId": "d4a464f2-c326-480b-acbf-e96e26319307"
      },
      "source": [
        "from sklearn.metrics import classification_report\n",
        "\n",
        "print(x_test[x_test[\"abnomal\"] == 1])\n",
        "print(x_test[x_test[\"outliers\"] == 1])\n",
        "\n",
        "print(classification_report(x_test[[\"abnomal\"]], x_test[[\"outliers\"]], target_names=['class 0', 'class 1']))"
      ],
      "execution_count": null,
      "outputs": [
        {
          "output_type": "stream",
          "text": [
            "        time_stamp   value_1    value_2   value_3  abnomal  outliers\n",
            "93335       311456 -2.302585  10.906691  9.025708        1         0\n",
            "93336       311458 -2.302585  10.906691  9.025708        1         0\n",
            "93337       311469 -2.302585  10.906691  9.025708        1         0\n",
            "93338       311470 -2.302585  10.906691  9.025708        1         0\n",
            "93339       311472 -2.302585  10.906691  9.025708        1         0\n",
            "...            ...       ...        ...       ...      ...       ...\n",
            "154331      514426 -2.302585  10.906691  9.025708        1         0\n",
            "154332      514432 -2.302585  10.906691  9.025708        1         0\n",
            "154333      514433 -2.302585  10.906691  9.025708        1         0\n",
            "154334      514436 -2.302585  10.906691  9.025708        1         0\n",
            "154335      514438 -2.302585  10.906691  9.025708        1         0\n",
            "\n",
            "[672 rows x 6 columns]\n",
            "        time_stamp   value_1   value_2    value_3  abnomal  outliers\n",
            "851           2946 -2.302585  5.011302  12.491233        0         1\n",
            "1761          5940 -2.302585  4.984291  10.312716        0         1\n",
            "1980          6735 -2.302585  4.984291  10.312716        0         1\n",
            "2564          8607 -2.302585  4.977423   3.468856        0         1\n",
            "3348         11253 -2.302585  4.991113  10.467297        0         1\n",
            "...            ...       ...       ...        ...      ...       ...\n",
            "168101      560368  1.629241  4.991113   9.582325        0         1\n",
            "169417      564704  2.208274  4.997888   9.846393        0         1\n",
            "169553      565166 -2.302585 -2.302585  -2.302585        0         1\n",
            "169851      566128 -2.302585  4.984291  10.561450        0         1\n",
            "170189      567307 -2.302585 -2.302585  -2.302585        0         1\n",
            "\n",
            "[510 rows x 6 columns]\n",
            "              precision    recall  f1-score   support\n",
            "\n",
            "     class 0       1.00      1.00      1.00    169570\n",
            "     class 1       0.06      0.04      0.05       672\n",
            "\n",
            "    accuracy                           0.99    170242\n",
            "   macro avg       0.53      0.52      0.52    170242\n",
            "weighted avg       0.99      0.99      0.99    170242\n",
            "\n"
          ],
          "name": "stdout"
        }
      ]
    },
    {
      "cell_type": "code",
      "metadata": {
        "colab": {
          "base_uri": "https://localhost:8080/"
        },
        "id": "qeGuVJipwuaI",
        "outputId": "db6b1aa6-3fb5-4f69-b0bc-b2a70882e238"
      },
      "source": [
        "from sklearn.metrics import f1_score, precision_recall_fscore_support\n",
        "\n",
        "# F1 Score\n",
        "#print(\"F1 score\", round(f1_score(y_valid,pred, average='binary'), 4))\n",
        "\n",
        "precision,recall,fbeta_score, support = precision_recall_fscore_support(x_test[[\"abnomal\"]], x_test[[\"outliers\"]], average=\"binary\")\n",
        "\n",
        "#precision,recall,fbeta_score, support  = precision_recall_fscore_support()\n",
        "print(\"precision \", round((precision), 4))\n",
        "print(\"recall \", round((recall), 4))\n",
        "print(\"F1 score on Test\", round((fbeta_score), 4))"
      ],
      "execution_count": null,
      "outputs": [
        {
          "output_type": "stream",
          "text": [
            "precision  0.0569\n",
            "recall  0.0432\n",
            "F1 score on Test 0.0491\n"
          ],
          "name": "stdout"
        }
      ]
    },
    {
      "cell_type": "code",
      "metadata": {
        "colab": {
          "base_uri": "https://localhost:8080/"
        },
        "id": "Zo_JfD2xWSmY",
        "outputId": "7c9ce916-1e4e-4e3c-8a97-0c222e70f0d5"
      },
      "source": [
        "print(x_test)\n",
        "\n",
        "print(x_test[x_test['outliers'] == x_test['abnomal']])\n"
      ],
      "execution_count": null,
      "outputs": [
        {
          "output_type": "stream",
          "text": [
            "        time_stamp   value_1   value_2   value_3  abnomal  outliers\n",
            "0                3 -2.302585  5.464255  7.113224        0         0\n",
            "1                6 -2.302585  5.472691  7.156255        0         0\n",
            "2               10 -2.302585  5.199049  8.603389        0         0\n",
            "3               11 -2.302585  5.215479  4.821088        0         0\n",
            "4               12 -2.302585  5.220896  9.107211        0         0\n",
            "...            ...       ...       ...       ...      ...       ...\n",
            "170237      567487 -2.302585  5.673667  7.090160        0         0\n",
            "170238      567490 -2.302585  5.673667  6.999514        0         0\n",
            "170239      567491 -2.302585  5.673667  7.529460        0         0\n",
            "170240      567493 -2.302585  5.389528  5.497578        0         0\n",
            "170241      567498 -2.302585  5.389528  7.001337        0         0\n",
            "\n",
            "[170242 rows x 6 columns]\n",
            "        time_stamp   value_1   value_2   value_3  abnomal  outliers\n",
            "0                3 -2.302585  5.464255  7.113224        0         0\n",
            "1                6 -2.302585  5.472691  7.156255        0         0\n",
            "2               10 -2.302585  5.199049  8.603389        0         0\n",
            "3               11 -2.302585  5.215479  4.821088        0         0\n",
            "4               12 -2.302585  5.220896  9.107211        0         0\n",
            "...            ...       ...       ...       ...      ...       ...\n",
            "170237      567487 -2.302585  5.673667  7.090160        0         0\n",
            "170238      567490 -2.302585  5.673667  6.999514        0         0\n",
            "170239      567491 -2.302585  5.673667  7.529460        0         0\n",
            "170240      567493 -2.302585  5.389528  5.497578        0         0\n",
            "170241      567498 -2.302585  5.389528  7.001337        0         0\n",
            "\n",
            "[169118 rows x 6 columns]\n"
          ],
          "name": "stdout"
        }
      ]
    },
    {
      "cell_type": "markdown",
      "metadata": {
        "id": "IVg218MJ8tFj"
      },
      "source": [
        "**F1 Score 기준 최적 하이퍼 파라미터 찾기**\n"
      ]
    },
    {
      "cell_type": "code",
      "metadata": {
        "id": "xfXPtx8A2MQ_"
      },
      "source": [
        "def find_hyperparameter_isolation_forest(train, test):\n",
        "  # isolation_forest_model(state_seed=20, n_estimators=100, max_samples=128, contamination=float(0.004))\n",
        "\n",
        "  n_estimators = [50, 100]\n",
        "  max_samples = [128, 256]\n",
        "  contaminations = [float(0.002), float(0.004), float(0.006)]\n",
        "\n",
        "  x_test = rDf\n",
        "\n",
        "  hyperF1 = []\n",
        "\n",
        "  for i in range(len(contaminations)):\n",
        "    contamination = contaminations[i]\n",
        "    \n",
        "    for ii in range(len(n_estimators)):\n",
        "      n_estimator = n_estimators[ii]\n",
        "      \n",
        "      for jj in range(len(max_samples)):\n",
        "        max_sample = max_samples[jj]\n",
        "        \n",
        "        ifm = isolation_forest_model(n_estimators=n_estimator, max_samples=max_sample, contamination=contamination)\n",
        "        ifm.fit(train[[\"value_1\", \"value_2\", \"value_3\"]])\n",
        "        series = ifm.predict(test[[\"value_1\", \"value_2\", \"value_3\"]])\n",
        "        test['outliers']= pd.Series(series).apply(lambda x: 1 if (x == -1) else 0 )\n",
        "      \n",
        "        f = f1_score(test[[\"abnomal\"]], test[[\"outliers\"]], average='binary')\n",
        "        #print(\"F1 score on test\", round(f,4), \" with epsilon \", eps)\n",
        "        print('contamination : {0}, n_estimator : {1}, max_sample : {2}, F1 : {3}'.format(contamination, n_estimator, max_sample, round(f,4)) )\n",
        "\n",
        "        hyperF1.append([contamination, n_estimator, max_sample, round(f,4)])\n",
        "      \n",
        "  hyperF1df = pd.DataFrame(hyperF1, columns = ['contamination', 'n_estimator', 'max_sample', 'F1'])\n",
        "  print(hyperF1df)\n",
        "  hyperF1df.sort_values(by='F1', ascending=False).head()\n",
        "  return hyperF1df"
      ],
      "execution_count": null,
      "outputs": []
    },
    {
      "cell_type": "code",
      "metadata": {
        "colab": {
          "base_uri": "https://localhost:8080/"
        },
        "id": "ZxXprzrrbLXD",
        "outputId": "a683dd07-38b3-40e6-d468-14adb34646a6"
      },
      "source": [
        "hyperDf = find_hyperparameter_isolation_forest(x_train, x_test)"
      ],
      "execution_count": null,
      "outputs": [
        {
          "output_type": "stream",
          "text": [
            "contamination : 0.002, n_estimator : 50, max_sample : 128, F1 : 0.0374\n",
            "contamination : 0.002, n_estimator : 50, max_sample : 256, F1 : 0.0421\n",
            "contamination : 0.002, n_estimator : 100, max_sample : 128, F1 : 0.035\n",
            "contamination : 0.002, n_estimator : 100, max_sample : 256, F1 : 0.0696\n",
            "contamination : 0.004, n_estimator : 50, max_sample : 128, F1 : 0.0374\n",
            "contamination : 0.004, n_estimator : 50, max_sample : 256, F1 : 0.9618\n",
            "contamination : 0.004, n_estimator : 100, max_sample : 128, F1 : 0.0491\n",
            "contamination : 0.004, n_estimator : 100, max_sample : 256, F1 : 0.9633\n",
            "contamination : 0.006, n_estimator : 50, max_sample : 128, F1 : 0.7749\n",
            "contamination : 0.006, n_estimator : 50, max_sample : 256, F1 : 0.7873\n",
            "contamination : 0.006, n_estimator : 100, max_sample : 128, F1 : 0.0491\n",
            "contamination : 0.006, n_estimator : 100, max_sample : 256, F1 : 0.7845\n",
            "    contamination  n_estimator  max_sample      F1\n",
            "0           0.002           50         128  0.0374\n",
            "1           0.002           50         256  0.0421\n",
            "2           0.002          100         128  0.0350\n",
            "3           0.002          100         256  0.0696\n",
            "4           0.004           50         128  0.0374\n",
            "5           0.004           50         256  0.9618\n",
            "6           0.004          100         128  0.0491\n",
            "7           0.004          100         256  0.9633\n",
            "8           0.006           50         128  0.7749\n",
            "9           0.006           50         256  0.7873\n",
            "10          0.006          100         128  0.0491\n",
            "11          0.006          100         256  0.7845\n"
          ],
          "name": "stdout"
        }
      ]
    },
    {
      "cell_type": "markdown",
      "metadata": {
        "id": "vWho82QbeHrR"
      },
      "source": [
        "**Hyper Parameter 찾기**"
      ]
    },
    {
      "cell_type": "code",
      "metadata": {
        "colab": {
          "base_uri": "https://localhost:8080/",
          "height": 80
        },
        "id": "UtMdFCjj7cOd",
        "outputId": "27a25d2d-175a-4247-befb-436590738f4e"
      },
      "source": [
        "topParameter = hyperDf.sort_values('F1', ascending=False).head(1)\n",
        "topParameter"
      ],
      "execution_count": null,
      "outputs": [
        {
          "output_type": "execute_result",
          "data": {
            "text/html": [
              "<div>\n",
              "<style scoped>\n",
              "    .dataframe tbody tr th:only-of-type {\n",
              "        vertical-align: middle;\n",
              "    }\n",
              "\n",
              "    .dataframe tbody tr th {\n",
              "        vertical-align: top;\n",
              "    }\n",
              "\n",
              "    .dataframe thead th {\n",
              "        text-align: right;\n",
              "    }\n",
              "</style>\n",
              "<table border=\"1\" class=\"dataframe\">\n",
              "  <thead>\n",
              "    <tr style=\"text-align: right;\">\n",
              "      <th></th>\n",
              "      <th>contamination</th>\n",
              "      <th>n_estimator</th>\n",
              "      <th>max_sample</th>\n",
              "      <th>F1</th>\n",
              "    </tr>\n",
              "  </thead>\n",
              "  <tbody>\n",
              "    <tr>\n",
              "      <th>7</th>\n",
              "      <td>0.004</td>\n",
              "      <td>100</td>\n",
              "      <td>256</td>\n",
              "      <td>0.9633</td>\n",
              "    </tr>\n",
              "  </tbody>\n",
              "</table>\n",
              "</div>"
            ],
            "text/plain": [
              "   contamination  n_estimator  max_sample      F1\n",
              "7          0.004          100         256  0.9633"
            ]
          },
          "metadata": {
            "tags": []
          },
          "execution_count": 28
        }
      ]
    },
    {
      "cell_type": "markdown",
      "metadata": {
        "id": "PDy8SSgteLiQ"
      },
      "source": [
        "**Hyper Parameter로 Model생성후 저장**\n"
      ]
    },
    {
      "cell_type": "code",
      "metadata": {
        "id": "K8PN8XDz4Uqx",
        "colab": {
          "base_uri": "https://localhost:8080/"
        },
        "outputId": "5fb45d7c-64c4-41ce-ee2d-0ac2ac4de58c"
      },
      "source": [
        "hyperModel = isolation_forest_model(contamination=topParameter['contamination'], \n",
        "                                    n_estimators = topParameter['n_estimator'], \n",
        "                                    max_samples = topParameter['max_sample'])\n",
        "import datetime as dt\n",
        "\n",
        "date = dt.datetime.now()\n",
        "\n",
        "# # Model 저장해 두기.\n",
        "filename='iForest_HTTP_'+date.strftime('%Y%m%d')+ '.model'\n",
        "\n",
        "print(filename)\n",
        "\n",
        "ftp = ftp_login(\"yjkno1.synology.me\", 2121, \"ftp_user\", \"wnsxhtm1212\")\n",
        "\n",
        "# Model 저장하기\n",
        "save_model_to_ftp(ftp, filename, hyperModel)\n",
        "\n",
        "# # Model 불러오기\n",
        "i_sol = load_model_to_ftp(ftp, filename)\n",
        "\n",
        "print(i_sol)\n"
      ],
      "execution_count": null,
      "outputs": [
        {
          "output_type": "stream",
          "text": [
            "iForest_HTTP_20210406.model\n",
            "IsolationForest(behaviour='deprecated', bootstrap=False,\n",
            "                contamination=7    0.004\n",
            "Name: contamination, dtype: float64,\n",
            "                max_features=1.0,\n",
            "                max_samples=7    256\n",
            "Name: max_sample, dtype: int64,\n",
            "                n_estimators=7    100\n",
            "Name: n_estimator, dtype: int64,\n",
            "                n_jobs=None,\n",
            "                random_state=RandomState(MT19937) at 0x7F67722426B0, verbose=0,\n",
            "                warm_start=False)\n"
          ],
          "name": "stdout"
        }
      ]
    },
    {
      "cell_type": "code",
      "metadata": {
        "id": "NfBeZoLEe0zW"
      },
      "source": [
        ""
      ],
      "execution_count": null,
      "outputs": []
    }
  ]
}