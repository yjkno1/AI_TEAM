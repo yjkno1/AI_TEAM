{
  "nbformat": 4,
  "nbformat_minor": 0,
  "metadata": {
    "colab": {
      "name": "iForest.ipynb",
      "provenance": [],
      "collapsed_sections": [],
      "authorship_tag": "ABX9TyMOvxQZQ7PROo8H5UGhHCye",
      "include_colab_link": true
    },
    "kernelspec": {
      "name": "python3",
      "display_name": "Python 3"
    }
  },
  "cells": [
    {
      "cell_type": "markdown",
      "metadata": {
        "id": "view-in-github",
        "colab_type": "text"
      },
      "source": [
        "<a href=\"https://colab.research.google.com/github/yjkno1/AI_TEAM/blob/main/iForest.ipynb\" target=\"_parent\"><img src=\"https://colab.research.google.com/assets/colab-badge.svg\" alt=\"Open In Colab\"/></a>"
      ]
    },
    {
      "cell_type": "code",
      "metadata": {
        "colab": {
          "base_uri": "https://localhost:8080/"
        },
        "id": "Iq0q7VJ-f4Tw",
        "outputId": "20ad4ff5-64e0-4fc3-e67f-1314173c0da0"
      },
      "source": [
        "import csv\r\n",
        "import numpy as np\r\n",
        "import matplotlib.pyplot as plt\r\n",
        "import pandas as pd\r\n",
        "from sklearn.ensemble import IsolationForest\r\n",
        "\r\n",
        "from google.colab import drive\r\n",
        "drive.mount('/gdrive', force_remount=True)\r\n",
        "\r\n"
      ],
      "execution_count": 6,
      "outputs": [
        {
          "output_type": "stream",
          "text": [
            "Mounted at /gdrive\n"
          ],
          "name": "stdout"
        }
      ]
    },
    {
      "cell_type": "code",
      "metadata": {
        "colab": {
          "base_uri": "https://localhost:8080/",
          "height": 284
        },
        "id": "GbqB_REMwog4",
        "outputId": "2a9b216e-bf48-4ee0-c9c8-b581e01a95de"
      },
      "source": [
        "df = pd.read_csv(\"/gdrive/My Drive/Colab Notebooks/file/10m_sample.csv\")\r\n",
        "\r\n",
        "df.describe()\r\n"
      ],
      "execution_count": 37,
      "outputs": [
        {
          "output_type": "execute_result",
          "data": {
            "text/html": [
              "<div>\n",
              "<style scoped>\n",
              "    .dataframe tbody tr th:only-of-type {\n",
              "        vertical-align: middle;\n",
              "    }\n",
              "\n",
              "    .dataframe tbody tr th {\n",
              "        vertical-align: top;\n",
              "    }\n",
              "\n",
              "    .dataframe thead th {\n",
              "        text-align: right;\n",
              "    }\n",
              "</style>\n",
              "<table border=\"1\" class=\"dataframe\">\n",
              "  <thead>\n",
              "    <tr style=\"text-align: right;\">\n",
              "      <th></th>\n",
              "      <th>status</th>\n",
              "      <th>value</th>\n",
              "    </tr>\n",
              "  </thead>\n",
              "  <tbody>\n",
              "    <tr>\n",
              "      <th>count</th>\n",
              "      <td>100000.000000</td>\n",
              "      <td>100000.000000</td>\n",
              "    </tr>\n",
              "    <tr>\n",
              "      <th>mean</th>\n",
              "      <td>0.023040</td>\n",
              "      <td>460.771877</td>\n",
              "    </tr>\n",
              "    <tr>\n",
              "      <th>std</th>\n",
              "      <td>5.151875</td>\n",
              "      <td>132.309891</td>\n",
              "    </tr>\n",
              "    <tr>\n",
              "      <th>min</th>\n",
              "      <td>0.000000</td>\n",
              "      <td>0.000000</td>\n",
              "    </tr>\n",
              "    <tr>\n",
              "      <th>25%</th>\n",
              "      <td>0.000000</td>\n",
              "      <td>300.000000</td>\n",
              "    </tr>\n",
              "    <tr>\n",
              "      <th>50%</th>\n",
              "      <td>0.000000</td>\n",
              "      <td>550.000000</td>\n",
              "    </tr>\n",
              "    <tr>\n",
              "      <th>75%</th>\n",
              "      <td>0.000000</td>\n",
              "      <td>557.000000</td>\n",
              "    </tr>\n",
              "    <tr>\n",
              "      <th>max</th>\n",
              "      <td>1152.000000</td>\n",
              "      <td>577.000000</td>\n",
              "    </tr>\n",
              "  </tbody>\n",
              "</table>\n",
              "</div>"
            ],
            "text/plain": [
              "              status          value\n",
              "count  100000.000000  100000.000000\n",
              "mean        0.023040     460.771877\n",
              "std         5.151875     132.309891\n",
              "min         0.000000       0.000000\n",
              "25%         0.000000     300.000000\n",
              "50%         0.000000     550.000000\n",
              "75%         0.000000     557.000000\n",
              "max      1152.000000     577.000000"
            ]
          },
          "metadata": {
            "tags": []
          },
          "execution_count": 37
        }
      ]
    },
    {
      "cell_type": "code",
      "metadata": {
        "colab": {
          "base_uri": "https://localhost:8080/"
        },
        "id": "QACi1853yx8o",
        "outputId": "9870182a-4277-4c61-80f9-31e5d4bf6383"
      },
      "source": [
        "# 랜덤 스테이트 수치 설정하기\r\n",
        "state_value = np.random.RandomState(20)  \r\n",
        "  \r\n",
        "# IsolationForest 모델 만들기\r\n",
        "isol = IsolationForest(max_samples=100, random_state=state_value) \r\n",
        "\r\n",
        "#x_train_df = df.filter(df.tag == \"SRL_1.1YH70.ROUGHING_MILL_STAND1_ACTUAL_SPEED_CONTROL_VOLTAGE1\").select(\"value\").toPandas().values\r\n",
        "# 100만건 == 47초\r\n",
        "x_train_df = np.array(df.value)\r\n",
        "\r\n",
        "x_train = x_train_df.reshape(-1,1)\r\n",
        "print(x_train)\r\n",
        "\r\n",
        "\r\n",
        "# x_train_df\r\n",
        "\r\n",
        "# array([[32767.],\r\n",
        "#       [32767.],\r\n",
        "#       [32767.],\r\n",
        "#       [32767.],\r\n",
        "#       [32767.],\r\n",
        "#       [32767.],\r\n",
        "#       [32767.],\r\n",
        "#       [32767.],\r\n",
        "#       [32767.],\r\n",
        "\r\n",
        "\r\n",
        "isol.fit(x_train)\r\n",
        "\r\n",
        "# 만들어 둔 데이터셋에 알고리즘 피팅시키기\r\n",
        "y_pred_train = isol.predict(x_train)\r\n",
        "\r\n",
        "X = [[-1.1], [0.3], [0.5], [100]]\r\n",
        "y_pred_train = isol.predict(X)\r\n",
        "\r\n",
        "print(y_pred_train)\r\n",
        "#y_pred_tran = ison.predict(df)"
      ],
      "execution_count": 31,
      "outputs": [
        {
          "output_type": "stream",
          "text": [
            "[[561. ]\n",
            " [557. ]\n",
            " [555. ]\n",
            " ...\n",
            " [217.9]\n",
            " [317.6]\n",
            " [265.3]]\n",
            "[-1 -1 -1 -1]\n"
          ],
          "name": "stdout"
        }
      ]
    },
    {
      "cell_type": "code",
      "metadata": {
        "id": "kEvcpjhX0Dgw"
      },
      "source": [
        ""
      ],
      "execution_count": null,
      "outputs": []
    }
  ]
}